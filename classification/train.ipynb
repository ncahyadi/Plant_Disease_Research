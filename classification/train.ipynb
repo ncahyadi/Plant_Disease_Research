{
 "cells": [
  {
   "cell_type": "code",
   "execution_count": 1,
   "id": "1c5e9e9d-47e8-4837-830c-176247a041a1",
   "metadata": {},
   "outputs": [
    {
     "name": "stdout",
     "output_type": "stream",
     "text": [
      "Importing libraries...\n"
     ]
    }
   ],
   "source": [
    "print('Importing libraries...')\n",
    "import matplotlib.pyplot as plt\n",
    "import matplotlib as mpl\n",
    "import numpy as np\n",
    "import os\n",
    "import tensorflow as tf\n",
    "import sklearn\n",
    "from sklearn.metrics import confusion_matrix\n",
    "from sklearn.model_selection import train_test_split\n",
    "from sklearn.preprocessing import StandardScaler\n",
    "import seaborn as sns\n",
    "from datetime import datetime, timedelta\n",
    "import time\n",
    "import tempfile"
   ]
  },
  {
   "cell_type": "code",
   "execution_count": 2,
   "id": "beabd547-2012-4ebd-9d25-25b5c35383e0",
   "metadata": {},
   "outputs": [
    {
     "name": "stdout",
     "output_type": "stream",
     "text": [
      "begin the process..\n"
     ]
    }
   ],
   "source": [
    "print('begin the process..')\n",
    "start_time = time.time()"
   ]
  },
  {
   "cell_type": "code",
   "execution_count": 3,
   "id": "fcf0448e-72db-49e4-b433-1ec932f8181e",
   "metadata": {},
   "outputs": [
    {
     "name": "stdout",
     "output_type": "stream",
     "text": [
      "Setting up data generator...\n",
      "Found 8431 files belonging to 5 classes.\n",
      "Found 1052 files belonging to 5 classes.\n",
      "Found 1060 files belonging to 5 classes.\n"
     ]
    }
   ],
   "source": [
    "print('Setting up data generator...')\n",
    "train_dir = '../../data_v1_adjusted/train'\n",
    "valid_dir = '../../data_v1_adjusted/val'\n",
    "test_dir = '../../data_v1_adjusted/test'\n",
    "\n",
    "BATCH_SIZE = 64\n",
    "IMG_SIZE = (224, 224)\n",
    "IMG_SHAPE = IMG_SIZE + (3,)\n",
    "base_learning_rate = 0.0003\n",
    "initial_epochs = 1\n",
    "fine_tune_epochs = 1\n",
    "pred_thresholds = 0.4, 0.5, 0.6, 0.7, 0.8, 0.9\n",
    "fine_tune_at = 100\n",
    "drop_out = 0.8\n",
    "\n",
    "train_dataset = tf.keras.utils.image_dataset_from_directory(train_dir,\n",
    "                                                            shuffle=True,\n",
    "                                                            batch_size=BATCH_SIZE,\n",
    "                                                            image_size=IMG_SIZE)\n",
    "train_labels = tf.concat([y for x, y in train_dataset], axis=0)\n",
    "\n",
    "validation_dataset = tf.keras.utils.image_dataset_from_directory(valid_dir,\n",
    "                                                                 shuffle=True,\n",
    "                                                                 batch_size=BATCH_SIZE,\n",
    "                                                                 image_size=IMG_SIZE)\n",
    "valid_labels = tf.concat([y for x, y in validation_dataset], axis=0)\n",
    "\n",
    "test_dataset = tf.keras.utils.image_dataset_from_directory(test_dir,\n",
    "                                                           batch_size=BATCH_SIZE,\n",
    "                                                           image_size=IMG_SIZE)\n",
    "test_labels = tf.concat([y for x, y in test_dataset], axis=0)\n",
    "\n",
    "classes = train_dataset.class_names"
   ]
  },
  {
   "cell_type": "code",
   "execution_count": 4,
   "id": "c0019a05-705f-4af9-9215-97c6a66aa17d",
   "metadata": {},
   "outputs": [
    {
     "name": "stdout",
     "output_type": "stream",
     "text": [
      "configuring data training performance...\n"
     ]
    }
   ],
   "source": [
    "print('configuring data training performance...')\n",
    "AUTOTUNE = tf.data.AUTOTUNE\n",
    "\n",
    "train_dataset = train_dataset.prefetch(buffer_size=AUTOTUNE)\n",
    "validation_dataset = validation_dataset.prefetch(buffer_size=AUTOTUNE)\n",
    "test_dataset = test_dataset.prefetch(buffer_size=AUTOTUNE)"
   ]
  },
  {
   "cell_type": "code",
   "execution_count": 5,
   "id": "c059fefa-b3f4-41fb-8cfb-af0097523186",
   "metadata": {},
   "outputs": [
    {
     "name": "stdout",
     "output_type": "stream",
     "text": [
      "preparing and building the model...\n"
     ]
    }
   ],
   "source": [
    "print('preparing and building the model...')\n",
    "preprocess_input = tf.keras.applications.efficientnet.preprocess_input\n",
    "base_model = tf.keras.applications.efficientnet.EfficientNetB0(input_shape=IMG_SHAPE,\n",
    "                                               include_top=False,\n",
    "                                               weights='imagenet')\n",
    "\n",
    "# preprocess_input = tf.keras.applications.mobilenet_v2.preprocess_input\n",
    "# base_model = tf.keras.applications.MobileNetV2(input_shape=IMG_SHAPE,\n",
    "#                                                include_top=False,\n",
    "#                                                weights='imagenet')\n",
    "\n",
    "# preprocess_input = tf.keras.applications.vgg16.preprocess_input\n",
    "# base_model = tf.keras.applications.vgg16.VGG16(input_shape=IMG_SHAPE,\n",
    "#                                                include_top=False,\n",
    "#                                                weights='imagenet')\n",
    "\n",
    "\n",
    "data_augmentation = tf.keras.Sequential([tf.keras.layers.RandomFlip('horizontal'),\n",
    "                                         tf.keras.layers.RandomFlip('vertical'),\n",
    "                                         tf.keras.layers.RandomRotation(0.2)])\n",
    "    \n",
    "# top_layer = [preprocess_input, base_model]"
   ]
  },
  {
   "cell_type": "code",
   "execution_count": 6,
   "id": "ee44c064-9d2e-4e90-b8b1-78df8b0ebc8a",
   "metadata": {},
   "outputs": [],
   "source": [
    "early_stopping = tf.keras.callbacks.EarlyStopping(\n",
    "    monitor='val_loss', \n",
    "    verbose=1,\n",
    "    patience=10,\n",
    "    mode='min',\n",
    "    restore_best_weights=True)"
   ]
  },
  {
   "cell_type": "code",
   "execution_count": 7,
   "id": "916c141d-7fd7-4435-876c-fca71a353088",
   "metadata": {},
   "outputs": [],
   "source": [
    "def get_transfer_model(output_bias):\n",
    "    if output_bias is not None:\n",
    "        output_bias = tf.keras.initializers.Constant(output_bias)\n",
    "    base_model.trainable = False\n",
    "    inputs = tf.keras.Input(shape=IMG_SHAPE)\n",
    "    x = preprocess_input(inputs)\n",
    "    x = data_augmentation(x)\n",
    "    x = base_model(x, training=False)\n",
    "    x = tf.keras.layers.GlobalAveragePooling2D()(x)\n",
    "    x = tf.keras.layers.Dropout(0.2)(x)\n",
    "    outputs = tf.keras.layers.Dense(len(classes),\n",
    "                                    kernel_regularizer=tf.keras.regularizers.l1_l2(l1=1e-5, l2=1e-4), bias_initializer=output_bias)(x) \n",
    "                                    # activity_regularizer=tf.keras.regularizers.l2(1e-5))(x)\n",
    "    model = tf.keras.Model(inputs, outputs)\n",
    "    model.summary()\n",
    "    return model"
   ]
  },
  {
   "cell_type": "code",
   "execution_count": 15,
   "id": "2f25ddeb-ac88-40a7-ad2b-9628fbd26e26",
   "metadata": {},
   "outputs": [],
   "source": [
    "mpl.rcParams['figure.figsize'] = (12, 10)\n",
    "colors = plt.rcParams['axes.prop_cycle'].by_key()['color']\n",
    "def plot_metrics(history):\n",
    "    metrics = ['loss', 'accuracy']\n",
    "    for n, metric in enumerate(metrics):\n",
    "        name = metric.replace(\"_\",\" \").capitalize()\n",
    "        plt.subplot(2,2,n+1)\n",
    "        plt.plot(history.epoch, history.history[metric], color=colors[0], label='Train')\n",
    "        plt.plot(history.epoch, history.history['val_'+metric],\n",
    "                 color=colors[0], linestyle=\"-.\", label='Val')\n",
    "        plt.xlabel('Epoch')\n",
    "        plt.ylabel(name)\n",
    "    if metric == 'loss':\n",
    "        plt.ylim([0, plt.ylim()[1]])\n",
    "    elif metric == 'auc':\n",
    "        plt.ylim([0.8,1])\n",
    "    else:\n",
    "        plt.ylim([0,1])\n",
    "    plt.legend();\n",
    "\n",
    "def plot_cm(labels, predictions, p=0.5):\n",
    "    cm = confusion_matrix(labels, predictions)\n",
    "    plt.figure(figsize=(5,5))\n",
    "    sns.heatmap(cm, annot=True, fmt=\"d\")\n",
    "    plt.title('Confusion matrix @{:.2f}'.format(p))\n",
    "    plt.ylabel('Actual label')\n",
    "    plt.xlabel('Predicted label')\n",
    "\n",
    "    print('Legitimate Face Detected (True Negatives): ', cm[0][0])\n",
    "    print('Legitimate Face Incorrectly Detected (False Positives): ', cm[0][1])\n",
    "    print('Spoof Attack Missed (False Negatives): ', cm[1][0])\n",
    "    print('Spoof Attack Detected (True Positives): ', cm[1][1])\n",
    "    print()\n",
    "    print('Total Spoof Attack: ', np.sum(cm[1]))\n",
    "    print('Total Real Face: ', np.sum(cm[0]))\n",
    "\n",
    "def plot_roc(name, labels, predictions, **kwargs):\n",
    "    fp, tp, _ = sklearn.metrics.roc_curve(labels, predictions)\n",
    "\n",
    "    plt.plot(100*fp, 100*tp, label=name, linewidth=2, **kwargs)\n",
    "    plt.xlabel('False positives [%]')\n",
    "    plt.ylabel('True positives [%]')\n",
    "    plt.xlim([-0.5,100.5])\n",
    "    plt.ylim([-0.5,100.5])\n",
    "    plt.grid(True)\n",
    "    ax = plt.gca()\n",
    "    ax.set_aspect('equal')\n",
    "    \n",
    "def plot_prc(name, labels, predictions, **kwargs):\n",
    "    precision, recall, _ = sklearn.metrics.precision_recall_curve(labels, predictions)\n",
    "\n",
    "    plt.plot(precision, recall, label=name, linewidth=2, **kwargs)\n",
    "    plt.xlabel('Precision')\n",
    "    plt.ylabel('Recall')\n",
    "    plt.grid(True)\n",
    "    ax = plt.gca()\n",
    "    ax.set_aspect('equal')"
   ]
  },
  {
   "cell_type": "code",
   "execution_count": 9,
   "id": "0a944ca7-b82e-420e-b5c1-2a68d2a1374a",
   "metadata": {
    "scrolled": false
   },
   "outputs": [
    {
     "name": "stdout",
     "output_type": "stream",
     "text": [
      "begin the transfer learning...\n",
      "Model: \"model\"\n",
      "_________________________________________________________________\n",
      " Layer (type)                Output Shape              Param #   \n",
      "=================================================================\n",
      " input_2 (InputLayer)        [(None, 224, 224, 3)]     0         \n",
      "                                                                 \n",
      " sequential (Sequential)     (None, 224, 224, 3)       0         \n",
      "                                                                 \n",
      " efficientnetb0 (Functional)  (None, 7, 7, 1280)       4049571   \n",
      "                                                                 \n",
      " global_average_pooling2d (G  (None, 1280)             0         \n",
      " lobalAveragePooling2D)                                          \n",
      "                                                                 \n",
      " dropout (Dropout)           (None, 1280)              0         \n",
      "                                                                 \n",
      " dense (Dense)               (None, 5)                 6405      \n",
      "                                                                 \n",
      "=================================================================\n",
      "Total params: 4,055,976\n",
      "Trainable params: 6,405\n",
      "Non-trainable params: 4,049,571\n",
      "_________________________________________________________________\n",
      "Epoch 1/500\n",
      "132/132 [==============================] - 30s 176ms/step - loss: 1.2876 - accuracy: 0.4926 - val_loss: 0.9858 - val_accuracy: 0.6835\n",
      "Epoch 2/500\n",
      "132/132 [==============================] - 21s 162ms/step - loss: 0.9301 - accuracy: 0.6840 - val_loss: 0.7903 - val_accuracy: 0.7529\n",
      "Epoch 3/500\n",
      "132/132 [==============================] - 22s 169ms/step - loss: 0.7932 - accuracy: 0.7361 - val_loss: 0.6990 - val_accuracy: 0.7738\n",
      "Epoch 4/500\n",
      "132/132 [==============================] - 23s 170ms/step - loss: 0.7177 - accuracy: 0.7521 - val_loss: 0.6341 - val_accuracy: 0.7918\n",
      "Epoch 5/500\n",
      "132/132 [==============================] - 23s 169ms/step - loss: 0.6628 - accuracy: 0.7722 - val_loss: 0.5901 - val_accuracy: 0.8004\n",
      "Epoch 6/500\n",
      "132/132 [==============================] - 23s 171ms/step - loss: 0.6190 - accuracy: 0.7859 - val_loss: 0.5600 - val_accuracy: 0.8051\n",
      "Epoch 7/500\n",
      "132/132 [==============================] - 23s 170ms/step - loss: 0.6018 - accuracy: 0.7880 - val_loss: 0.5376 - val_accuracy: 0.8108\n",
      "Epoch 8/500\n",
      "132/132 [==============================] - 23s 175ms/step - loss: 0.5720 - accuracy: 0.8017 - val_loss: 0.5131 - val_accuracy: 0.8203\n",
      "Epoch 9/500\n",
      "132/132 [==============================] - 23s 176ms/step - loss: 0.5524 - accuracy: 0.8093 - val_loss: 0.5012 - val_accuracy: 0.8232\n",
      "Epoch 10/500\n",
      "132/132 [==============================] - 24s 182ms/step - loss: 0.5369 - accuracy: 0.8101 - val_loss: 0.4840 - val_accuracy: 0.8203\n",
      "Epoch 11/500\n",
      "132/132 [==============================] - 24s 182ms/step - loss: 0.5296 - accuracy: 0.8147 - val_loss: 0.4733 - val_accuracy: 0.8298\n",
      "Epoch 12/500\n",
      "132/132 [==============================] - 24s 184ms/step - loss: 0.5164 - accuracy: 0.8192 - val_loss: 0.4633 - val_accuracy: 0.8337\n",
      "Epoch 13/500\n",
      "132/132 [==============================] - 25s 185ms/step - loss: 0.5130 - accuracy: 0.8176 - val_loss: 0.4533 - val_accuracy: 0.8356\n",
      "Epoch 14/500\n",
      "132/132 [==============================] - 25s 188ms/step - loss: 0.4997 - accuracy: 0.8188 - val_loss: 0.4449 - val_accuracy: 0.8317\n",
      "Epoch 15/500\n",
      "132/132 [==============================] - 25s 185ms/step - loss: 0.4987 - accuracy: 0.8194 - val_loss: 0.4372 - val_accuracy: 0.8365\n",
      "Epoch 16/500\n",
      "132/132 [==============================] - 25s 189ms/step - loss: 0.4861 - accuracy: 0.8254 - val_loss: 0.4342 - val_accuracy: 0.8337\n",
      "Epoch 17/500\n",
      "132/132 [==============================] - 25s 185ms/step - loss: 0.4773 - accuracy: 0.8253 - val_loss: 0.4270 - val_accuracy: 0.8403\n",
      "Epoch 18/500\n",
      "132/132 [==============================] - 25s 188ms/step - loss: 0.4764 - accuracy: 0.8294 - val_loss: 0.4203 - val_accuracy: 0.8451\n",
      "Epoch 19/500\n",
      "132/132 [==============================] - 25s 185ms/step - loss: 0.4672 - accuracy: 0.8323 - val_loss: 0.4204 - val_accuracy: 0.8365\n",
      "Epoch 20/500\n",
      "132/132 [==============================] - 25s 190ms/step - loss: 0.4594 - accuracy: 0.8371 - val_loss: 0.4125 - val_accuracy: 0.8432\n",
      "Epoch 21/500\n",
      "132/132 [==============================] - 25s 185ms/step - loss: 0.4603 - accuracy: 0.8364 - val_loss: 0.4097 - val_accuracy: 0.8422\n",
      "Epoch 22/500\n",
      "132/132 [==============================] - 25s 189ms/step - loss: 0.4583 - accuracy: 0.8349 - val_loss: 0.4060 - val_accuracy: 0.8451\n",
      "Epoch 23/500\n",
      "132/132 [==============================] - 26s 195ms/step - loss: 0.4537 - accuracy: 0.8348 - val_loss: 0.4036 - val_accuracy: 0.8413\n",
      "Epoch 24/500\n",
      "132/132 [==============================] - 25s 189ms/step - loss: 0.4527 - accuracy: 0.8334 - val_loss: 0.4011 - val_accuracy: 0.8470\n",
      "Epoch 25/500\n",
      "132/132 [==============================] - 26s 198ms/step - loss: 0.4417 - accuracy: 0.8349 - val_loss: 0.3981 - val_accuracy: 0.8479\n",
      "Epoch 26/500\n",
      "132/132 [==============================] - 26s 196ms/step - loss: 0.4415 - accuracy: 0.8366 - val_loss: 0.3958 - val_accuracy: 0.8527\n",
      "Epoch 27/500\n",
      "132/132 [==============================] - 25s 192ms/step - loss: 0.4403 - accuracy: 0.8382 - val_loss: 0.3936 - val_accuracy: 0.8517\n",
      "Epoch 28/500\n",
      "132/132 [==============================] - 26s 194ms/step - loss: 0.4370 - accuracy: 0.8422 - val_loss: 0.3889 - val_accuracy: 0.8555\n",
      "Epoch 29/500\n",
      "132/132 [==============================] - 25s 189ms/step - loss: 0.4363 - accuracy: 0.8386 - val_loss: 0.3925 - val_accuracy: 0.8489\n",
      "Epoch 30/500\n",
      "132/132 [==============================] - 26s 194ms/step - loss: 0.4396 - accuracy: 0.8407 - val_loss: 0.3847 - val_accuracy: 0.8584\n",
      "Epoch 31/500\n",
      "132/132 [==============================] - 25s 192ms/step - loss: 0.4356 - accuracy: 0.8432 - val_loss: 0.3791 - val_accuracy: 0.8612\n",
      "Epoch 32/500\n",
      "132/132 [==============================] - 25s 188ms/step - loss: 0.4325 - accuracy: 0.8402 - val_loss: 0.3839 - val_accuracy: 0.8574\n",
      "Epoch 33/500\n",
      "132/132 [==============================] - 26s 197ms/step - loss: 0.4269 - accuracy: 0.8411 - val_loss: 0.3800 - val_accuracy: 0.8612\n",
      "Epoch 34/500\n",
      "132/132 [==============================] - 26s 192ms/step - loss: 0.4255 - accuracy: 0.8445 - val_loss: 0.3865 - val_accuracy: 0.8565\n",
      "Epoch 35/500\n",
      "132/132 [==============================] - 26s 194ms/step - loss: 0.4255 - accuracy: 0.8413 - val_loss: 0.3764 - val_accuracy: 0.8669\n",
      "Epoch 36/500\n",
      "132/132 [==============================] - 26s 193ms/step - loss: 0.4254 - accuracy: 0.8432 - val_loss: 0.3776 - val_accuracy: 0.8631\n",
      "Epoch 37/500\n",
      "132/132 [==============================] - 25s 187ms/step - loss: 0.4143 - accuracy: 0.8494 - val_loss: 0.3706 - val_accuracy: 0.8698\n",
      "Epoch 38/500\n",
      "132/132 [==============================] - 26s 197ms/step - loss: 0.4192 - accuracy: 0.8502 - val_loss: 0.3710 - val_accuracy: 0.8679\n",
      "Epoch 39/500\n",
      "132/132 [==============================] - 25s 191ms/step - loss: 0.4170 - accuracy: 0.8469 - val_loss: 0.3694 - val_accuracy: 0.8650\n",
      "Epoch 40/500\n",
      "132/132 [==============================] - 25s 192ms/step - loss: 0.4227 - accuracy: 0.8473 - val_loss: 0.3714 - val_accuracy: 0.8660\n",
      "Epoch 41/500\n",
      "132/132 [==============================] - 25s 190ms/step - loss: 0.4134 - accuracy: 0.8495 - val_loss: 0.3684 - val_accuracy: 0.8669\n",
      "Epoch 42/500\n",
      "132/132 [==============================] - 25s 188ms/step - loss: 0.4161 - accuracy: 0.8463 - val_loss: 0.3685 - val_accuracy: 0.8679\n",
      "Epoch 43/500\n",
      "132/132 [==============================] - 25s 192ms/step - loss: 0.4126 - accuracy: 0.8476 - val_loss: 0.3679 - val_accuracy: 0.8679\n",
      "Epoch 44/500\n",
      "132/132 [==============================] - 25s 186ms/step - loss: 0.4138 - accuracy: 0.8462 - val_loss: 0.3654 - val_accuracy: 0.8688\n",
      "Epoch 45/500\n",
      "132/132 [==============================] - 26s 194ms/step - loss: 0.4101 - accuracy: 0.8475 - val_loss: 0.3680 - val_accuracy: 0.8688\n",
      "Epoch 46/500\n",
      "132/132 [==============================] - 25s 190ms/step - loss: 0.4075 - accuracy: 0.8498 - val_loss: 0.3626 - val_accuracy: 0.8726\n",
      "Epoch 47/500\n",
      "132/132 [==============================] - 25s 190ms/step - loss: 0.4042 - accuracy: 0.8515 - val_loss: 0.3594 - val_accuracy: 0.8717\n"
     ]
    },
    {
     "name": "stdout",
     "output_type": "stream",
     "text": [
      "Epoch 48/500\n",
      "132/132 [==============================] - 26s 194ms/step - loss: 0.4058 - accuracy: 0.8530 - val_loss: 0.3626 - val_accuracy: 0.8707\n",
      "Epoch 49/500\n",
      "132/132 [==============================] - 26s 193ms/step - loss: 0.4081 - accuracy: 0.8497 - val_loss: 0.3661 - val_accuracy: 0.8669\n",
      "Epoch 50/500\n",
      "132/132 [==============================] - 24s 183ms/step - loss: 0.4067 - accuracy: 0.8482 - val_loss: 0.3591 - val_accuracy: 0.8698\n",
      "Epoch 51/500\n",
      "132/132 [==============================] - 25s 191ms/step - loss: 0.4107 - accuracy: 0.8494 - val_loss: 0.3589 - val_accuracy: 0.8698\n",
      "Epoch 52/500\n",
      "132/132 [==============================] - 24s 182ms/step - loss: 0.4066 - accuracy: 0.8511 - val_loss: 0.3568 - val_accuracy: 0.8660\n",
      "Epoch 53/500\n",
      "132/132 [==============================] - 26s 192ms/step - loss: 0.4082 - accuracy: 0.8458 - val_loss: 0.3573 - val_accuracy: 0.8669\n",
      "Epoch 54/500\n",
      "132/132 [==============================] - 26s 194ms/step - loss: 0.4067 - accuracy: 0.8513 - val_loss: 0.3580 - val_accuracy: 0.8669\n",
      "Epoch 55/500\n",
      "132/132 [==============================] - 26s 195ms/step - loss: 0.4040 - accuracy: 0.8489 - val_loss: 0.3551 - val_accuracy: 0.8707\n",
      "Epoch 56/500\n",
      "132/132 [==============================] - 25s 191ms/step - loss: 0.4065 - accuracy: 0.8477 - val_loss: 0.3558 - val_accuracy: 0.8707\n",
      "Epoch 57/500\n",
      "132/132 [==============================] - 25s 185ms/step - loss: 0.4058 - accuracy: 0.8502 - val_loss: 0.3525 - val_accuracy: 0.8707\n",
      "Epoch 58/500\n",
      "132/132 [==============================] - 25s 186ms/step - loss: 0.3975 - accuracy: 0.8559 - val_loss: 0.3546 - val_accuracy: 0.8755\n",
      "Epoch 59/500\n",
      "132/132 [==============================] - 25s 190ms/step - loss: 0.3911 - accuracy: 0.8545 - val_loss: 0.3533 - val_accuracy: 0.8707\n",
      "Epoch 60/500\n",
      "132/132 [==============================] - 25s 189ms/step - loss: 0.4029 - accuracy: 0.8490 - val_loss: 0.3574 - val_accuracy: 0.8641\n",
      "Epoch 61/500\n",
      "132/132 [==============================] - 26s 198ms/step - loss: 0.3994 - accuracy: 0.8530 - val_loss: 0.3580 - val_accuracy: 0.8698\n",
      "Epoch 62/500\n",
      "132/132 [==============================] - 25s 189ms/step - loss: 0.4008 - accuracy: 0.8506 - val_loss: 0.3513 - val_accuracy: 0.8688\n",
      "Epoch 63/500\n",
      "132/132 [==============================] - 26s 197ms/step - loss: 0.3980 - accuracy: 0.8507 - val_loss: 0.3504 - val_accuracy: 0.8764\n",
      "Epoch 64/500\n",
      "132/132 [==============================] - 25s 189ms/step - loss: 0.3990 - accuracy: 0.8539 - val_loss: 0.3525 - val_accuracy: 0.8698\n",
      "Epoch 65/500\n",
      "132/132 [==============================] - 26s 194ms/step - loss: 0.4010 - accuracy: 0.8497 - val_loss: 0.3501 - val_accuracy: 0.8736\n",
      "Epoch 66/500\n",
      "132/132 [==============================] - 25s 190ms/step - loss: 0.4034 - accuracy: 0.8523 - val_loss: 0.3545 - val_accuracy: 0.8660\n",
      "Epoch 67/500\n",
      "132/132 [==============================] - 25s 186ms/step - loss: 0.3954 - accuracy: 0.8517 - val_loss: 0.3503 - val_accuracy: 0.8717\n",
      "Epoch 68/500\n",
      "132/132 [==============================] - 26s 192ms/step - loss: 0.3946 - accuracy: 0.8559 - val_loss: 0.3525 - val_accuracy: 0.8688\n",
      "Epoch 69/500\n",
      "132/132 [==============================] - 25s 191ms/step - loss: 0.3951 - accuracy: 0.8551 - val_loss: 0.3504 - val_accuracy: 0.8736\n",
      "Epoch 70/500\n",
      "132/132 [==============================] - 25s 187ms/step - loss: 0.3927 - accuracy: 0.8533 - val_loss: 0.3513 - val_accuracy: 0.8736\n",
      "Epoch 71/500\n",
      "132/132 [==============================] - 25s 188ms/step - loss: 0.3964 - accuracy: 0.8553 - val_loss: 0.3479 - val_accuracy: 0.8764\n",
      "Epoch 72/500\n",
      "132/132 [==============================] - 25s 185ms/step - loss: 0.3959 - accuracy: 0.8535 - val_loss: 0.3458 - val_accuracy: 0.8774\n",
      "Epoch 73/500\n",
      "132/132 [==============================] - 25s 186ms/step - loss: 0.3938 - accuracy: 0.8562 - val_loss: 0.3482 - val_accuracy: 0.8745\n",
      "Epoch 74/500\n",
      "132/132 [==============================] - 26s 194ms/step - loss: 0.3916 - accuracy: 0.8514 - val_loss: 0.3490 - val_accuracy: 0.8764\n",
      "Epoch 75/500\n",
      "132/132 [==============================] - 25s 187ms/step - loss: 0.3939 - accuracy: 0.8572 - val_loss: 0.3427 - val_accuracy: 0.8783\n",
      "Epoch 76/500\n",
      "132/132 [==============================] - 25s 191ms/step - loss: 0.3947 - accuracy: 0.8532 - val_loss: 0.3449 - val_accuracy: 0.8812\n",
      "Epoch 77/500\n",
      "132/132 [==============================] - 27s 202ms/step - loss: 0.3967 - accuracy: 0.8520 - val_loss: 0.3444 - val_accuracy: 0.8793\n",
      "Epoch 78/500\n",
      "132/132 [==============================] - 26s 194ms/step - loss: 0.3893 - accuracy: 0.8555 - val_loss: 0.3456 - val_accuracy: 0.8764\n",
      "Epoch 79/500\n",
      "132/132 [==============================] - 25s 189ms/step - loss: 0.3911 - accuracy: 0.8567 - val_loss: 0.3456 - val_accuracy: 0.8726\n",
      "Epoch 80/500\n",
      "132/132 [==============================] - 25s 191ms/step - loss: 0.3897 - accuracy: 0.8558 - val_loss: 0.3458 - val_accuracy: 0.8764\n",
      "Epoch 81/500\n",
      "132/132 [==============================] - 26s 195ms/step - loss: 0.3933 - accuracy: 0.8579 - val_loss: 0.3473 - val_accuracy: 0.8802\n",
      "Epoch 82/500\n",
      "132/132 [==============================] - 26s 192ms/step - loss: 0.3879 - accuracy: 0.8559 - val_loss: 0.3428 - val_accuracy: 0.8812\n",
      "Epoch 83/500\n",
      "132/132 [==============================] - 25s 191ms/step - loss: 0.3910 - accuracy: 0.8540 - val_loss: 0.3426 - val_accuracy: 0.8821\n",
      "Epoch 84/500\n",
      "132/132 [==============================] - 26s 193ms/step - loss: 0.3900 - accuracy: 0.8565 - val_loss: 0.3422 - val_accuracy: 0.8869\n",
      "Epoch 85/500\n",
      "132/132 [==============================] - 26s 196ms/step - loss: 0.3939 - accuracy: 0.8573 - val_loss: 0.3459 - val_accuracy: 0.8755\n",
      "Epoch 86/500\n",
      "132/132 [==============================] - 25s 192ms/step - loss: 0.3937 - accuracy: 0.8528 - val_loss: 0.3433 - val_accuracy: 0.8802\n",
      "Epoch 87/500\n",
      "132/132 [==============================] - 26s 192ms/step - loss: 0.3919 - accuracy: 0.8541 - val_loss: 0.3441 - val_accuracy: 0.8821\n",
      "Epoch 88/500\n",
      "132/132 [==============================] - 26s 193ms/step - loss: 0.3856 - accuracy: 0.8560 - val_loss: 0.3416 - val_accuracy: 0.8850\n",
      "Epoch 89/500\n",
      "132/132 [==============================] - 26s 193ms/step - loss: 0.3870 - accuracy: 0.8547 - val_loss: 0.3471 - val_accuracy: 0.8802\n",
      "Epoch 90/500\n",
      "132/132 [==============================] - 26s 192ms/step - loss: 0.3897 - accuracy: 0.8571 - val_loss: 0.3453 - val_accuracy: 0.8812\n",
      "Epoch 91/500\n",
      "132/132 [==============================] - 25s 192ms/step - loss: 0.3943 - accuracy: 0.8530 - val_loss: 0.3419 - val_accuracy: 0.8831\n",
      "Epoch 92/500\n",
      "132/132 [==============================] - 25s 187ms/step - loss: 0.3879 - accuracy: 0.8589 - val_loss: 0.3393 - val_accuracy: 0.8869\n",
      "Epoch 93/500\n",
      "132/132 [==============================] - 26s 194ms/step - loss: 0.3874 - accuracy: 0.8570 - val_loss: 0.3416 - val_accuracy: 0.8840\n",
      "Epoch 94/500\n",
      "132/132 [==============================] - 25s 185ms/step - loss: 0.3920 - accuracy: 0.8516 - val_loss: 0.3430 - val_accuracy: 0.8764\n",
      "Epoch 95/500\n",
      "132/132 [==============================] - 26s 195ms/step - loss: 0.3814 - accuracy: 0.8583 - val_loss: 0.3384 - val_accuracy: 0.8831\n",
      "Epoch 96/500\n",
      "132/132 [==============================] - 25s 190ms/step - loss: 0.3966 - accuracy: 0.8532 - val_loss: 0.3416 - val_accuracy: 0.8783\n",
      "Epoch 97/500\n",
      "132/132 [==============================] - 25s 185ms/step - loss: 0.3878 - accuracy: 0.8570 - val_loss: 0.3470 - val_accuracy: 0.8726\n",
      "Epoch 98/500\n",
      "132/132 [==============================] - 25s 187ms/step - loss: 0.3805 - accuracy: 0.8602 - val_loss: 0.3440 - val_accuracy: 0.8774\n",
      "Epoch 99/500\n",
      "132/132 [==============================] - 25s 188ms/step - loss: 0.3904 - accuracy: 0.8546 - val_loss: 0.3438 - val_accuracy: 0.8774\n",
      "Epoch 100/500\n",
      "132/132 [==============================] - 25s 191ms/step - loss: 0.3885 - accuracy: 0.8559 - val_loss: 0.3399 - val_accuracy: 0.8793\n",
      "Epoch 101/500\n",
      "132/132 [==============================] - 26s 196ms/step - loss: 0.3882 - accuracy: 0.8613 - val_loss: 0.3435 - val_accuracy: 0.8783\n",
      "Epoch 102/500\n",
      "132/132 [==============================] - 26s 195ms/step - loss: 0.3883 - accuracy: 0.8574 - val_loss: 0.3439 - val_accuracy: 0.8774\n",
      "Epoch 103/500\n",
      "132/132 [==============================] - 26s 196ms/step - loss: 0.3898 - accuracy: 0.8581 - val_loss: 0.3412 - val_accuracy: 0.8783\n"
     ]
    },
    {
     "name": "stdout",
     "output_type": "stream",
     "text": [
      "Epoch 104/500\n",
      "132/132 [==============================] - 26s 192ms/step - loss: 0.3859 - accuracy: 0.8603 - val_loss: 0.3426 - val_accuracy: 0.8783\n",
      "Epoch 105/500\n",
      "132/132 [==============================] - ETA: 0s - loss: 0.3847 - accuracy: 0.8594Restoring model weights from the end of the best epoch: 95.\n",
      "132/132 [==============================] - 25s 191ms/step - loss: 0.3847 - accuracy: 0.8594 - val_loss: 0.3428 - val_accuracy: 0.8764\n",
      "Epoch 105: early stopping\n",
      "17/17 [==============================] - 4s 203ms/step - loss: 0.3940 - accuracy: 0.8415\n"
     ]
    },
    {
     "data": {
      "image/png": "[encoded data removed]",
      "text/plain": [
       "<Figure size 864x720 with 2 Axes>"
      ]
     },
     "metadata": {
      "needs_background": "light"
     },
     "output_type": "display_data"
    }
   ],
   "source": [
    "print('begin the transfer learning...')\n",
    "m1 = get_transfer_model(output_bias=None)\n",
    "# m2.load_weights(initial_weights)\n",
    "m1.compile(optimizer=tf.keras.optimizers.Adam(learning_rate=base_learning_rate),\n",
    "              loss=tf.keras.losses.SparseCategoricalCrossentropy(from_logits=True),\n",
    "              metrics=['accuracy'])\n",
    "history_m1 = m1.fit(train_dataset,\n",
    "                    epochs=500,\n",
    "                    validation_data=validation_dataset, \n",
    "                    callbacks=[early_stopping]\n",
    "                   )\n",
    "m1.evaluate(test_dataset)\n",
    "plot_metrics(history_m1)"
   ]
  },
  {
   "cell_type": "code",
   "execution_count": 27,
   "id": "6aa23b60-050a-47f3-b5d6-acb45f2dd047",
   "metadata": {},
   "outputs": [],
   "source": [
    "train_predictions_baseline = tf.math.argmax(tf.nn.softmax(m1.predict(train_dataset, batch_size=BATCH_SIZE)), axis=1)\n",
    "valid_predictions_baseline = tf.math.argmax(tf.nn.softmax(m1.predict(validation_dataset, batch_size=BATCH_SIZE)), axis=1)\n",
    "test_predictions_baseline = tf.math.argmax(tf.nn.softmax(m1.predict(test_dataset, batch_size=BATCH_SIZE)), axis=1)"
   ]
  },
  {
   "cell_type": "code",
   "execution_count": 28,
   "id": "a8a29e08",
   "metadata": {},
   "outputs": [
    {
     "name": "stdout",
     "output_type": "stream",
     "text": [
      "Legitimate Face Detected (True Negatives):  24\n",
      "Legitimate Face Incorrectly Detected (False Positives):  22\n",
      "Spoof Attack Missed (False Negatives):  22\n",
      "Spoof Attack Detected (True Positives):  26\n",
      "\n",
      "Total Spoof Attack:  157\n",
      "Total Real Face:  161\n"
     ]
    },
    {
     "data": {
      "image/png": "[encoded data removed]",
      "text/plain": [
       "<Figure size 360x360 with 2 Axes>"
      ]
     },
     "metadata": {
      "needs_background": "light"
     },
     "output_type": "display_data"
    }
   ],
   "source": [
    "plot_cm(test_labels, test_predictions_baseline)"
   ]
  },
  {
   "cell_type": "code",
   "execution_count": 29,
   "id": "1e3bb042",
   "metadata": {},
   "outputs": [
    {
     "ename": "ValueError",
     "evalue": "multiclass format is not supported",
     "output_type": "error",
     "traceback": [
      "\u001b[1;31m---------------------------------------------------------------------------\u001b[0m",
      "\u001b[1;31mValueError\u001b[0m                                Traceback (most recent call last)",
      "\u001b[1;32m~\\AppData\\Local\\Temp\\ipykernel_16776\\637341115.py\u001b[0m in \u001b[0;36m<module>\u001b[1;34m\u001b[0m\n\u001b[1;32m----> 1\u001b[1;33m \u001b[0mplot_roc\u001b[0m\u001b[1;33m(\u001b[0m\u001b[1;34m\"Train Baseline\"\u001b[0m\u001b[1;33m,\u001b[0m \u001b[0mtrain_labels\u001b[0m\u001b[1;33m,\u001b[0m \u001b[0mtrain_predictions_baseline\u001b[0m\u001b[1;33m,\u001b[0m \u001b[0mcolor\u001b[0m\u001b[1;33m=\u001b[0m\u001b[0mcolors\u001b[0m\u001b[1;33m[\u001b[0m\u001b[1;36m0\u001b[0m\u001b[1;33m]\u001b[0m\u001b[1;33m)\u001b[0m\u001b[1;33m\u001b[0m\u001b[1;33m\u001b[0m\u001b[0m\n\u001b[0m\u001b[0;32m      2\u001b[0m \u001b[0mplot_roc\u001b[0m\u001b[1;33m(\u001b[0m\u001b[1;34m\"Test Baseline\"\u001b[0m\u001b[1;33m,\u001b[0m \u001b[0mtest_labels\u001b[0m\u001b[1;33m,\u001b[0m \u001b[0mtest_predictions_baseline\u001b[0m\u001b[1;33m,\u001b[0m \u001b[0mcolor\u001b[0m\u001b[1;33m=\u001b[0m\u001b[0mcolors\u001b[0m\u001b[1;33m[\u001b[0m\u001b[1;36m0\u001b[0m\u001b[1;33m]\u001b[0m\u001b[1;33m,\u001b[0m \u001b[0mlinestyle\u001b[0m\u001b[1;33m=\u001b[0m\u001b[1;34m'--'\u001b[0m\u001b[1;33m)\u001b[0m\u001b[1;33m\u001b[0m\u001b[1;33m\u001b[0m\u001b[0m\n\u001b[0;32m      3\u001b[0m \u001b[0mplt\u001b[0m\u001b[1;33m.\u001b[0m\u001b[0mlegend\u001b[0m\u001b[1;33m(\u001b[0m\u001b[0mloc\u001b[0m\u001b[1;33m=\u001b[0m\u001b[1;34m'lower right'\u001b[0m\u001b[1;33m)\u001b[0m\u001b[1;33m;\u001b[0m\u001b[1;33m\u001b[0m\u001b[1;33m\u001b[0m\u001b[0m\n",
      "\u001b[1;32m~\\AppData\\Local\\Temp\\ipykernel_16776\\1675651154.py\u001b[0m in \u001b[0;36mplot_roc\u001b[1;34m(name, labels, predictions, **kwargs)\u001b[0m\n\u001b[0;32m     36\u001b[0m \u001b[1;33m\u001b[0m\u001b[0m\n\u001b[0;32m     37\u001b[0m \u001b[1;32mdef\u001b[0m \u001b[0mplot_roc\u001b[0m\u001b[1;33m(\u001b[0m\u001b[0mname\u001b[0m\u001b[1;33m,\u001b[0m \u001b[0mlabels\u001b[0m\u001b[1;33m,\u001b[0m \u001b[0mpredictions\u001b[0m\u001b[1;33m,\u001b[0m \u001b[1;33m**\u001b[0m\u001b[0mkwargs\u001b[0m\u001b[1;33m)\u001b[0m\u001b[1;33m:\u001b[0m\u001b[1;33m\u001b[0m\u001b[1;33m\u001b[0m\u001b[0m\n\u001b[1;32m---> 38\u001b[1;33m     \u001b[0mfp\u001b[0m\u001b[1;33m,\u001b[0m \u001b[0mtp\u001b[0m\u001b[1;33m,\u001b[0m \u001b[0m_\u001b[0m \u001b[1;33m=\u001b[0m \u001b[0msklearn\u001b[0m\u001b[1;33m.\u001b[0m\u001b[0mmetrics\u001b[0m\u001b[1;33m.\u001b[0m\u001b[0mroc_curve\u001b[0m\u001b[1;33m(\u001b[0m\u001b[0mlabels\u001b[0m\u001b[1;33m,\u001b[0m \u001b[0mpredictions\u001b[0m\u001b[1;33m)\u001b[0m\u001b[1;33m\u001b[0m\u001b[1;33m\u001b[0m\u001b[0m\n\u001b[0m\u001b[0;32m     39\u001b[0m \u001b[1;33m\u001b[0m\u001b[0m\n\u001b[0;32m     40\u001b[0m     \u001b[0mplt\u001b[0m\u001b[1;33m.\u001b[0m\u001b[0mplot\u001b[0m\u001b[1;33m(\u001b[0m\u001b[1;36m100\u001b[0m\u001b[1;33m*\u001b[0m\u001b[0mfp\u001b[0m\u001b[1;33m,\u001b[0m \u001b[1;36m100\u001b[0m\u001b[1;33m*\u001b[0m\u001b[0mtp\u001b[0m\u001b[1;33m,\u001b[0m \u001b[0mlabel\u001b[0m\u001b[1;33m=\u001b[0m\u001b[0mname\u001b[0m\u001b[1;33m,\u001b[0m \u001b[0mlinewidth\u001b[0m\u001b[1;33m=\u001b[0m\u001b[1;36m2\u001b[0m\u001b[1;33m,\u001b[0m \u001b[1;33m**\u001b[0m\u001b[0mkwargs\u001b[0m\u001b[1;33m)\u001b[0m\u001b[1;33m\u001b[0m\u001b[1;33m\u001b[0m\u001b[0m\n",
      "\u001b[1;32m~\\anaconda3\\envs\\labAI1\\lib\\site-packages\\sklearn\\metrics\\_ranking.py\u001b[0m in \u001b[0;36mroc_curve\u001b[1;34m(y_true, y_score, pos_label, sample_weight, drop_intermediate)\u001b[0m\n\u001b[0;32m    961\u001b[0m     \"\"\"\n\u001b[0;32m    962\u001b[0m     fps, tps, thresholds = _binary_clf_curve(\n\u001b[1;32m--> 963\u001b[1;33m         \u001b[0my_true\u001b[0m\u001b[1;33m,\u001b[0m \u001b[0my_score\u001b[0m\u001b[1;33m,\u001b[0m \u001b[0mpos_label\u001b[0m\u001b[1;33m=\u001b[0m\u001b[0mpos_label\u001b[0m\u001b[1;33m,\u001b[0m \u001b[0msample_weight\u001b[0m\u001b[1;33m=\u001b[0m\u001b[0msample_weight\u001b[0m\u001b[1;33m\u001b[0m\u001b[1;33m\u001b[0m\u001b[0m\n\u001b[0m\u001b[0;32m    964\u001b[0m     )\n\u001b[0;32m    965\u001b[0m \u001b[1;33m\u001b[0m\u001b[0m\n",
      "\u001b[1;32m~\\anaconda3\\envs\\labAI1\\lib\\site-packages\\sklearn\\metrics\\_ranking.py\u001b[0m in \u001b[0;36m_binary_clf_curve\u001b[1;34m(y_true, y_score, pos_label, sample_weight)\u001b[0m\n\u001b[0;32m    729\u001b[0m     \u001b[0my_type\u001b[0m \u001b[1;33m=\u001b[0m \u001b[0mtype_of_target\u001b[0m\u001b[1;33m(\u001b[0m\u001b[0my_true\u001b[0m\u001b[1;33m)\u001b[0m\u001b[1;33m\u001b[0m\u001b[1;33m\u001b[0m\u001b[0m\n\u001b[0;32m    730\u001b[0m     \u001b[1;32mif\u001b[0m \u001b[1;32mnot\u001b[0m \u001b[1;33m(\u001b[0m\u001b[0my_type\u001b[0m \u001b[1;33m==\u001b[0m \u001b[1;34m\"binary\"\u001b[0m \u001b[1;32mor\u001b[0m \u001b[1;33m(\u001b[0m\u001b[0my_type\u001b[0m \u001b[1;33m==\u001b[0m \u001b[1;34m\"multiclass\"\u001b[0m \u001b[1;32mand\u001b[0m \u001b[0mpos_label\u001b[0m \u001b[1;32mis\u001b[0m \u001b[1;32mnot\u001b[0m \u001b[1;32mNone\u001b[0m\u001b[1;33m)\u001b[0m\u001b[1;33m)\u001b[0m\u001b[1;33m:\u001b[0m\u001b[1;33m\u001b[0m\u001b[1;33m\u001b[0m\u001b[0m\n\u001b[1;32m--> 731\u001b[1;33m         \u001b[1;32mraise\u001b[0m \u001b[0mValueError\u001b[0m\u001b[1;33m(\u001b[0m\u001b[1;34m\"{0} format is not supported\"\u001b[0m\u001b[1;33m.\u001b[0m\u001b[0mformat\u001b[0m\u001b[1;33m(\u001b[0m\u001b[0my_type\u001b[0m\u001b[1;33m)\u001b[0m\u001b[1;33m)\u001b[0m\u001b[1;33m\u001b[0m\u001b[1;33m\u001b[0m\u001b[0m\n\u001b[0m\u001b[0;32m    732\u001b[0m \u001b[1;33m\u001b[0m\u001b[0m\n\u001b[0;32m    733\u001b[0m     \u001b[0mcheck_consistent_length\u001b[0m\u001b[1;33m(\u001b[0m\u001b[0my_true\u001b[0m\u001b[1;33m,\u001b[0m \u001b[0my_score\u001b[0m\u001b[1;33m,\u001b[0m \u001b[0msample_weight\u001b[0m\u001b[1;33m)\u001b[0m\u001b[1;33m\u001b[0m\u001b[1;33m\u001b[0m\u001b[0m\n",
      "\u001b[1;31mValueError\u001b[0m: multiclass format is not supported"
     ]
    }
   ],
   "source": [
    "plot_roc(\"Train Baseline\", train_labels, train_predictions_baseline, color=colors[0])\n",
    "plot_roc(\"Test Baseline\", test_labels, test_predictions_baseline, color=colors[0], linestyle='--')\n",
    "plt.legend(loc='lower right');"
   ]
  },
  {
   "cell_type": "code",
   "execution_count": null,
   "id": "0791c748",
   "metadata": {},
   "outputs": [],
   "source": []
  }
 ],
 "metadata": {
  "kernelspec": {
   "display_name": "labAI1",
   "language": "python",
   "name": "labai1"
  },
  "language_info": {
   "codemirror_mode": {
    "name": "ipython",
    "version": 3
   },
   "file_extension": ".py",
   "mimetype": "text/x-python",
   "name": "python",
   "nbconvert_exporter": "python",
   "pygments_lexer": "ipython3",
   "version": "3.7.13"
  }
 },
 "nbformat": 4,
 "nbformat_minor": 5
}
