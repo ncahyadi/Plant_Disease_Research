{
 "cells": [
  {
   "cell_type": "code",
   "execution_count": 1,
   "id": "d7e6915c-c887-4d44-8d8b-7dfcb53cd405",
   "metadata": {},
   "outputs": [],
   "source": [
    "import os\n",
    "import pathlib\n",
    "import shutil\n",
    "import numpy as np"
   ]
  },
  {
   "cell_type": "code",
   "execution_count": 2,
   "id": "41e1eb3f-26b1-4885-a0a7-d6de5223a699",
   "metadata": {},
   "outputs": [
    {
     "name": "stdout",
     "output_type": "stream",
     "text": [
      "C:\\Users\\nanan\\Documents\\RESEARCH CROPS\n"
     ]
    }
   ],
   "source": [
    "print(os.getcwd())"
   ]
  },
  {
   "cell_type": "code",
   "execution_count": 3,
   "id": "7c867ea2-97d5-43e3-8c6a-12e5e8d33ebd",
   "metadata": {},
   "outputs": [],
   "source": [
    "ds_path = './BenchData'"
   ]
  },
  {
   "cell_type": "code",
   "execution_count": 4,
   "id": "63459984-58f0-488b-b174-a6a98ded6a59",
   "metadata": {},
   "outputs": [],
   "source": [
    "crops = [_ for _ in os.listdir(ds_path)]"
   ]
  },
  {
   "cell_type": "code",
   "execution_count": 5,
   "id": "4209f8aa-fae6-4ae1-af6e-4b78692a572e",
   "metadata": {},
   "outputs": [],
   "source": [
    "target = './BenchTest'"
   ]
  },
  {
   "cell_type": "code",
   "execution_count": 7,
   "id": "b6492292-c2b7-4dc1-b838-3ba6752f70a6",
   "metadata": {},
   "outputs": [],
   "source": [
    "n = 0.1\n",
    "\n",
    "for crop in os.listdir(ds_path):\n",
    "    target_dir = os.path.join(target, crop)\n",
    "    os.makedirs(target_dir, exist_ok=True)\n",
    "    files = np.array(os.listdir(os.path.join(ds_path, crop)))\n",
    "    for _ in range(int(n*len(files))):\n",
    "        file = np.random.choice(files)\n",
    "        src = os.path.join(ds_path, crop, file)\n",
    "        while os.path.exists(src)==False:\n",
    "            file = np.random.choice(files)\n",
    "            src = os.path.join(ds_path, crop, file)\n",
    "        shutil.move(src=src, dst=os.path.join(target_dir, file))"
   ]
  },
  {
   "cell_type": "code",
   "execution_count": null,
   "id": "cfaa63e5-3329-49b3-88ea-4e758c40ed1c",
   "metadata": {},
   "outputs": [],
   "source": []
  }
 ],
 "metadata": {
  "kernelspec": {
   "display_name": "labAI1",
   "language": "python",
   "name": "labai1"
  },
  "language_info": {
   "codemirror_mode": {
    "name": "ipython",
    "version": 3
   },
   "file_extension": ".py",
   "mimetype": "text/x-python",
   "name": "python",
   "nbconvert_exporter": "python",
   "pygments_lexer": "ipython3",
   "version": "3.7.13"
  }
 },
 "nbformat": 4,
 "nbformat_minor": 5
}
